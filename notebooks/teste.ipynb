{
 "cells": [
  {
   "cell_type": "code",
   "execution_count": null,
   "metadata": {},
   "outputs": [],
   "source": [
    "pip install odfpy\n",
    "pip install re"
   ]
  },
  {
   "cell_type": "code",
   "execution_count": 29,
   "metadata": {},
   "outputs": [],
   "source": [
    "import pandas as pd\n",
    "import re\n",
    "\n",
    "def is_not_cep(cep):\n",
    "  pattern = re.compile(r'^\\d{5}-\\d{3}$')\n",
    "  return pattern.match(cep) is None\n",
    "\n",
    "def format_cep(row, index1, index2):\n",
    "    return \"{}-{}\".format(row[index1], row[index2]).strip()    \n",
    "\n",
    "def extract_cep(endereco):\n",
    "    endereco = endereco.split(\"-\")\n",
    "    cep = format_cep(endereco, 3, 4)\n",
    "\n",
    "    if is_not_cep(cep):\n",
    "        cep = format_cep(row, 4, 5)\n",
    "\n",
    "    return cep\n",
    "\n",
    "# Load the data\n",
    "df = pd.read_excel('../data/Pasta1.ods', engine='odf')\n",
    "df.insert(len(df.columns), 'CEP', None)\n",
    "\n",
    "for index, row in  df.iterrows():\n",
    "    df.loc[index, 'CEP'] = extract_cep(row['Endereco'])\n",
    "    \n",
    "# # Save the data to a new CSV file\n",
    "df.to_excel('output.ods', index=False, engine='odf')"
   ]
  }
 ],
 "metadata": {
  "kernelspec": {
   "display_name": "Python 3",
   "language": "python",
   "name": "python3"
  },
  "language_info": {
   "codemirror_mode": {
    "name": "ipython",
    "version": 3
   },
   "file_extension": ".py",
   "mimetype": "text/x-python",
   "name": "python",
   "nbconvert_exporter": "python",
   "pygments_lexer": "ipython3",
   "version": "3.10.8"
  },
  "orig_nbformat": 4
 },
 "nbformat": 4,
 "nbformat_minor": 2
}
